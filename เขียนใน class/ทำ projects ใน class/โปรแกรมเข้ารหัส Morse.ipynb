{
 "cells": [
  {
   "cell_type": "code",
   "execution_count": 2,
   "metadata": {},
   "outputs": [],
   "source": [
    "# Morse code dictionary\n",
    "morse_dict = { 'A':'.-', 'B':'-...', 'C':'-.-.', 'D':'-..', 'E':'.', \n",
    "               'F':'..-.', 'G':'--.', 'H':'....', 'I':'..', 'J':'.---',\n",
    "               'K':'-.-', 'L':'.-..', 'M':'--', 'N':'-.', 'O':'---',\n",
    "               'P':'.--.', 'Q':'--.-', 'R':'.-.', 'S':'...', 'T':'-',\n",
    "               'U':'..-', 'V':'...-', 'W':'.--', 'X':'-..-', 'Y':'-.--',\n",
    "               'Z':'--..', '1':'.----', '2':'..---', '3':'...--', '4':'....-',\n",
    "               '5':'.....', '6':'-....', '7':'--...', '8':'---..', '9':'----.',\n",
    "               '0':'-----', ', ':'--..--', '.':'.-.-.-', '?':'..--..', '/':'-..-.',\n",
    "               '-':'-....-', '(':'-.--.', ')':'-.--.-' }\n",
    "\n",
    "# Reverse Morse code dictionary\n",
    "reverse_dict = {value:key for key, value in morse_dict.items()}\n",
    "\n",
    "def encode(message):\n",
    "    \"\"\"Encode a message to Morse code\"\"\"\n",
    "    morse_message = ''\n",
    "    for char in message.upper():\n",
    "        if char in morse_dict:\n",
    "            morse_message += morse_dict[char] + ' '\n",
    "        elif char == ' ':\n",
    "            morse_message += '/ '\n",
    "    return morse_message\n",
    "\n",
    "def decode(message):\n",
    "    \"\"\"Decode a Morse code message\"\"\"\n",
    "    message += ' ' # add a space at the end to mark the end of the last character\n",
    "    decoded_message = ''\n",
    "    morse_char = ''\n",
    "    for char in message:\n",
    "        if char != ' ':\n",
    "            morse_char += char\n",
    "        else:\n",
    "            if morse_char in reverse_dict:\n",
    "                decoded_message += reverse_dict[morse_char]\n",
    "            elif morse_char == '/':\n",
    "                decoded_message += ' '\n",
    "            morse_char = ''\n",
    "    return decoded_message"
   ]
  },
  {
   "cell_type": "code",
   "execution_count": 3,
   "metadata": {},
   "outputs": [
    {
     "name": "stdout",
     "output_type": "stream",
     "text": [
      ".... . .-.. .-.. --- / .-- --- .-. .-.. -.. \n"
     ]
    }
   ],
   "source": [
    "# Example usage\n",
    "message = 'Hello, World!'\n",
    "encoded_message = encode(message)\n",
    "print(encoded_message)"
   ]
  },
  {
   "cell_type": "code",
   "execution_count": 4,
   "metadata": {},
   "outputs": [
    {
     "name": "stdout",
     "output_type": "stream",
     "text": [
      "HELLO WORLD\n"
     ]
    }
   ],
   "source": [
    "decoded_message = decode('.... . .-.. .-.. --- / .-- --- .-. .-.. -..')\n",
    "print(decoded_message)"
   ]
  },
  {
   "cell_type": "code",
   "execution_count": 5,
   "metadata": {},
   "outputs": [
    {
     "name": "stdout",
     "output_type": "stream",
     "text": [
      "Enter the text to convert to Morse code: hello world\n",
      "Morse code:  .... . .-.. .-.. ---  .-- --- .-. .-.. -..\n"
     ]
    }
   ],
   "source": [
    "morse_code = {\n",
    "    'A': '.-', 'B': '-...', 'C': '-.-.', 'D': '-..', 'E': '.', 'F': '..-.',\n",
    "    'G': '--.', 'H': '....', 'I': '..', 'J': '.---', 'K': '-.-', 'L': '.-..',\n",
    "    'M': '--', 'N': '-.', 'O': '---', 'P': '.--.', 'Q': '--.-', 'R': '.-.',\n",
    "    'S': '...', 'T': '-', 'U': '..-', 'V': '...-', 'W': '.--', 'X': '-..-',\n",
    "    'Y': '-.--', 'Z': '--..', '0': '-----', '1': '.----', '2': '..---',\n",
    "    '3': '...--', '4': '....-', '5': '.....', '6': '-....', '7': '--...',\n",
    "    '8': '---..', '9': '----.'\n",
    "}\n",
    "\n",
    "def text_to_morse(text):\n",
    "    morse_text = ''\n",
    "    for char in text:\n",
    "        if char.upper() in morse_code:\n",
    "            morse_text += morse_code[char.upper()] + ' '\n",
    "        else:\n",
    "            morse_text += char\n",
    "    return morse_text.strip()\n",
    "\n",
    "text = input(\"Enter the text to convert to Morse code: \")\n",
    "morse_text = text_to_morse(text)\n",
    "print(\"Morse code: \", morse_text)"
   ]
  },
  {
   "cell_type": "code",
   "execution_count": null,
   "metadata": {},
   "outputs": [],
   "source": []
  }
 ],
 "metadata": {
  "kernelspec": {
   "display_name": "Python 3",
   "language": "python",
   "name": "python3"
  },
  "language_info": {
   "codemirror_mode": {
    "name": "ipython",
    "version": 3
   },
   "file_extension": ".py",
   "mimetype": "text/x-python",
   "name": "python",
   "nbconvert_exporter": "python",
   "pygments_lexer": "ipython3",
   "version": "3.7.3"
  }
 },
 "nbformat": 4,
 "nbformat_minor": 2
}
